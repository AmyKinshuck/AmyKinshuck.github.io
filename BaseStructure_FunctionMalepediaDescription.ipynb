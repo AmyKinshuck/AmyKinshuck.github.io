{
  "nbformat": 4,
  "nbformat_minor": 0,
  "metadata": {
    "colab": {
      "provenance": [],
      "authorship_tag": "ABX9TyMFGfyjP/MebIV4rpIzeVQq",
      "include_colab_link": true
    },
    "kernelspec": {
      "name": "python3",
      "display_name": "Python 3"
    },
    "language_info": {
      "name": "python"
    }
  },
  "cells": [
    {
      "cell_type": "markdown",
      "metadata": {
        "id": "view-in-github",
        "colab_type": "text"
      },
      "source": [
        "<a href=\"https://colab.research.google.com/github/AmyKinshuck/AmyKinshuck.github.io/blob/main/BaseStructure_FunctionMalepediaDescription.ipynb\" target=\"_parent\"><img src=\"https://colab.research.google.com/assets/colab-badge.svg\" alt=\"Open In Colab\"/></a>"
      ]
    },
    {
      "cell_type": "code",
      "execution_count": 4,
      "metadata": {
        "colab": {
          "base_uri": "https://localhost:8080/"
        },
        "id": "pRiPIFrTM9aZ",
        "outputId": "4d2908dd-ae5c-4c09-c068-5b577c0108d4"
      },
      "outputs": [
        {
          "output_type": "stream",
          "name": "stdout",
          "text": [
            "Description: While Emotet historically was a banking malware organized in a botnet, nowadays Emotet is mostly seen as infrastructure as a service for content delivery. For example, since mid 2018 it is used by Trickbot for installs, which may also lead to ransomware attacks using Ryuk, a combination observed several times against high-profile targets.\r\n",
            "It is always stealing information from victims but what the criminal gang behind it did, was to open up another business channel by selling their infrastructure delivering additional malicious software. From malware analysts it has been classified into epochs depending on command and control, payloads, and delivery solutions which change over time.\r\n",
            "Emotet had been taken down by authorities in January 2021, though it appears to have sprung back to life in November 2021.\n"
          ]
        }
      ],
      "source": [
        "import requests\n",
        "from bs4 import BeautifulSoup\n",
        "\n",
        "# Test code structure to pull information about Emotet from Malpedia\n",
        "# This code fits into the first function of the overall code, malpedia_description(family: str)\n",
        "\n",
        "# Step 1: Define the URL for Emotet on Malpedia\n",
        "url = \"https://malpedia.caad.fkie.fraunhofer.de/details/win.emotet\"\n",
        "\n",
        "# Step 2: Send an HTTP request to the page\n",
        "response = requests.get(url)\n",
        "\n",
        "# Step 3: Parse the page with BeautifulSoup\n",
        "soup = BeautifulSoup(response.text, \"html.parser\")\n",
        "\n",
        "# Step 4: Find the main description\n",
        "meta_desc = soup.find(\"meta\", attrs={\"name\": \"description\"})\n",
        "\n",
        "if meta_desc is not None and meta_desc.get(\"content\") is not None:\n",
        "    print(\"Description:\", meta_desc[\"content\"])\n",
        "else:\n",
        "    print(\"No description found.\")\n"
      ]
    }
  ]
}