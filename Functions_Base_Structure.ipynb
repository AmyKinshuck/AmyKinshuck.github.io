{
  "nbformat": 4,
  "nbformat_minor": 0,
  "metadata": {
    "colab": {
      "provenance": [],
      "authorship_tag": "ABX9TyMV7sKnzBiLifo3yFB95VAb",
      "include_colab_link": true
    },
    "kernelspec": {
      "name": "python3",
      "display_name": "Python 3"
    },
    "language_info": {
      "name": "python"
    }
  },
  "cells": [
    {
      "cell_type": "markdown",
      "metadata": {
        "id": "view-in-github",
        "colab_type": "text"
      },
      "source": [
        "<a href=\"https://colab.research.google.com/github/AmyKinshuck/AmyKinshuck.github.io/blob/main/Functions_Base_Structure.ipynb\" target=\"_parent\"><img src=\"https://colab.research.google.com/assets/colab-badge.svg\" alt=\"Open In Colab\"/></a>"
      ]
    },
    {
      "cell_type": "code",
      "execution_count": null,
      "metadata": {
        "colab": {
          "base_uri": "https://localhost:8080/"
        },
        "id": "pRiPIFrTM9aZ",
        "outputId": "caef95aa-b44a-4dca-94d2-ebdae579aae2"
      },
      "outputs": [
        {
          "output_type": "stream",
          "name": "stdout",
          "text": [
            "Description: While Emotet historically was a banking malware organized in a botnet, nowadays Emotet is mostly seen as infrastructure as a service for content delivery. For example, since mid 2018 it is used by Trickbot for installs, which may also lead to ransomware attacks using Ryuk, a combination observed several times against high-profile targets.\r\n",
            "It is always stealing information from victims but what the criminal gang behind it did, was to open up another business channel by selling their infrastructure delivering additional malicious software. From malware analysts it has been classified into epochs depending on command and control, payloads, and delivery solutions which change over time.\r\n",
            "Emotet had been taken down by authorities in January 2021, though it appears to have sprung back to life in November 2021.\n"
          ]
        }
      ],
      "source": [
        "import requests\n",
        "from bs4 import BeautifulSoup\n",
        "\n",
        "# Test code structure to pull information about Emotet from Malpedia\n",
        "# This code fits into the first function of the overall code, malpedia_description(family: str)\n",
        "\n",
        "# Step 1: Define the URL for Emotet on Malpedia\n",
        "url = \"https://malpedia.caad.fkie.fraunhofer.de/details/win.emotet\"\n",
        "\n",
        "# Step 2: Send an HTTP request to the page\n",
        "response = requests.get(url)\n",
        "\n",
        "# Step 3: Parse the page with BeautifulSoup\n",
        "soup = BeautifulSoup(response.text, \"html.parser\")\n",
        "\n",
        "# Step 4: Find the main description\n",
        "meta_desc = soup.find(\"meta\", attrs={\"name\": \"description\"})\n",
        "\n",
        "# Step 5: Output the main description\n",
        "if meta_desc is not None and meta_desc.get(\"content\") is not None:\n",
        "    malpedia_description = meta_desc[\"content\"]\n",
        "    print(\"Description:\", malpedia_description)\n",
        "else:\n",
        "    print(\"No description found.\")\n"
      ]
    },
    {
      "cell_type": "code",
      "source": [
        "import requests\n",
        "from bs4 import BeautifulSoup\n",
        "\n",
        "# Test code structure to pull information about Emotet from MITRE ATT&CK\n",
        "# This code fits into the second function of the overall code, mitre_description(family: str)\n",
        "\n",
        "# Step 1: Define the URL for Emotet on MITRE ATT&CK\n",
        "url = \"https://attack.mitre.org/software/S0367/\"\n",
        "\n",
        "# Step 2: Send an HTTP request to the page\n",
        "response = requests.get(url)\n",
        "\n",
        "# Step 3: Parse the page with BeautifulSoup\n",
        "soup = BeautifulSoup(response.text, \"html.parser\")\n",
        "\n",
        "# Step 4: Find the main description inside a specific <div> with class \"description-body\"\n",
        "desc_div = soup.find(\"div\", class_=\"description-body\")\n",
        "\n",
        "# Step 5: Output the main description\n",
        "if desc_div:\n",
        "    mitre_description = desc_div.get_text(separator=\" \", strip=True)\n",
        "    print(\"MITRE Description:\", mitre_description)\n",
        "else:\n",
        "    print(\"Description not found.\")"
      ],
      "metadata": {
        "colab": {
          "base_uri": "https://localhost:8080/"
        },
        "id": "k_JVXZuxcBlg",
        "outputId": "e4f05642-eaf0-4a4c-8dad-c7aa3f3b373c"
      },
      "execution_count": null,
      "outputs": [
        {
          "output_type": "stream",
          "name": "stdout",
          "text": [
            "MITRE Description: Emotet is a modular malware variant which is primarily used as a downloader for other malware variants such as TrickBot and IcedID . Emotet first emerged in June 2014, initially targeting the financial sector, and has expanded to multiple verticals over time. [1]\n"
          ]
        }
      ]
    }
  ]
}